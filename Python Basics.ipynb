{
 "cells": [
  {
   "cell_type": "markdown",
   "id": "cf25a73e",
   "metadata": {},
   "source": [
    "# Python Basics\n",
    " * Variables\n",
    " * Data types\n",
    " * Operators\n",
    " "
   ]
  },
  {
   "cell_type": "markdown",
   "id": "54e8c8e4",
   "metadata": {},
   "source": [
    "## Variables\n",
    "  * Variables are placeholders for or handles to values in computer memory\n",
    "  * Calling a variable by name returns its referenced value from memory\n"
   ]
  },
  {
   "cell_type": "code",
   "execution_count": 1,
   "id": "cd9dd5e6",
   "metadata": {},
   "outputs": [
    {
     "name": "stdout",
     "output_type": "stream",
     "text": [
      "Hello World!\n"
     ]
    }
   ],
   "source": [
    "# set variable to a string value of \"Hello World!\"\n",
    "message = \"Hello World!\"\n",
    "\n",
    "# print the value of the variable\n",
    "print(message)"
   ]
  },
  {
   "cell_type": "code",
   "execution_count": 2,
   "id": "890ff8d6",
   "metadata": {},
   "outputs": [
    {
     "name": "stdout",
     "output_type": "stream",
     "text": [
      "1\n"
     ]
    }
   ],
   "source": [
    "# set variable a to a value of 1 (integer)\n",
    "an_integer = 1\n",
    "\n",
    "# print the value of the vaiable to the console by callin the variable by name\n",
    "print(an_integer)"
   ]
  },
  {
   "cell_type": "code",
   "execution_count": 3,
   "id": "01d7b40d",
   "metadata": {},
   "outputs": [
    {
     "name": "stdout",
     "output_type": "stream",
     "text": [
      "2\n"
     ]
    }
   ],
   "source": [
    "# set another variable to int value of to the value of the first times 2\n",
    "another_integer = an_integer * 2\n",
    "\n",
    "print(another_integer)"
   ]
  },
  {
   "cell_type": "code",
   "execution_count": 4,
   "id": "2bbba170",
   "metadata": {},
   "outputs": [
    {
     "name": "stdout",
     "output_type": "stream",
     "text": [
      "3\n"
     ]
    }
   ],
   "source": [
    "# set yet another integer to the value of the sum of our previous two integers\n",
    "integer_sum = an_integer + another_integer\n",
    "\n",
    "print(integer_sum)"
   ]
  },
  {
   "cell_type": "code",
   "execution_count": 5,
   "id": "ef0502b0",
   "metadata": {},
   "outputs": [
    {
     "name": "stdout",
     "output_type": "stream",
     "text": [
      "1.3\n"
     ]
    }
   ],
   "source": [
    "# set variable to a float value of 1.3\n",
    "a_float = 1.3\n",
    "\n",
    "print(a_float)"
   ]
  },
  {
   "cell_type": "markdown",
   "id": "05b08812",
   "metadata": {},
   "source": [
    "## Data types\n",
    "  * integer = 1\n",
    "  * floats = 1.0\n",
    "  * strings = \"\"\n"
   ]
  },
  {
   "cell_type": "code",
   "execution_count": 8,
   "id": "8e0aca9f",
   "metadata": {
    "scrolled": true
   },
   "outputs": [
    {
     "name": "stdout",
     "output_type": "stream",
     "text": [
      "i = 1\n",
      "i2 = 2 \n",
      "\n"
     ]
    }
   ],
   "source": [
    "# Integer\n",
    "i = 1\n",
    "#can cast any number as an integer, but watch for unexpected results\n",
    "i2 = int(2.5) # ingores all decimal point information\n",
    "print(\"i =\", i)\n",
    "print(\"i2 =\", i2, '\\n') "
   ]
  },
  {
   "cell_type": "code",
   "execution_count": 13,
   "id": "02f35368",
   "metadata": {},
   "outputs": [
    {
     "name": "stdout",
     "output_type": "stream",
     "text": [
      "f = 1.234\n",
      "f * 1.23 = 1.51782 \n",
      "\n"
     ]
    }
   ],
   "source": [
    "# Float\n",
    "f = 1.234\n",
    "\n",
    "print(\"f =\", f)\n",
    "print(\"f * 1.23 =\", f * 1.23, '\\n') "
   ]
  },
  {
   "cell_type": "code",
   "execution_count": 15,
   "id": "69ead76f",
   "metadata": {},
   "outputs": [
    {
     "name": "stdout",
     "output_type": "stream",
     "text": [
      "Hello World! Is the \"default\" message for a beginning application.\n",
      "Hello World!... \n",
      "Is the \"default\" message for a beginning application.\n"
     ]
    },
    {
     "data": {
      "text/plain": [
       "'Hello World! i = 1; f = 1.0'"
      ]
     },
     "execution_count": 15,
     "metadata": {},
     "output_type": "execute_result"
    }
   ],
   "source": [
    "# Strings\n",
    "# --------------------\n",
    "# basic string with single quotes\n",
    "ss = 'Hello World! Is the \"default\" message for a beginning application.' \n",
    "print(ss)\n",
    "# double quotes require the \\escape character to include double quotes in the string\n",
    "sd = \"Hello World!... Is the \\\"default\\\" message for a beginning application.\" \n",
    "print(sd)\n",
    "# f-string (or formatted string)\n",
    "sf = f\"Hello World! i = {i}; f = {f}\" \n",
    "sf"
   ]
  },
  {
   "cell_type": "code",
   "execution_count": 72,
   "id": "b805db55",
   "metadata": {},
   "outputs": [
    {
     "name": "stdout",
     "output_type": "stream",
     "text": [
      "l = [0, 1, 2, 3, 4, 5, 6, 7, 8, 9, 10, 11, 12, 13, 14]\n"
     ]
    }
   ],
   "source": [
    "# Lists - 1D array\n",
    "l = [0, 1, 2, 3, 4, 5, 6, 7, 8, 9, 10, 11, 12, 13, 14] # a 1x15 array... also example of zero indexing item addresses\n",
    "print(f\"l = {l}\")"
   ]
  },
  {
   "cell_type": "code",
   "execution_count": 81,
   "id": "1f4b4e06",
   "metadata": {},
   "outputs": [
    {
     "name": "stdout",
     "output_type": "stream",
     "text": [
      "l = [0, 1, 2, 3, 4, 5, 6, 7, 8, 9, 10, 11, 12, 13, 14]\n",
      "lrandom = [7, 1, 4, 11, 11, 12, 10, 12, 8, 0, 7, 0, 12, 0, 12]\n"
     ]
    }
   ],
   "source": [
    "import random\n",
    "\n",
    "l = [i for i in range(15)] # example using list comprehension\n",
    "print(f\"l = {l}\")\n",
    "lrandom = [random.randint(0,14) for i in range(15)]\n",
    "print(f\"lrandom = {lrandom}\")"
   ]
  },
  {
   "cell_type": "code",
   "execution_count": 71,
   "id": "34ddbb2b",
   "metadata": {},
   "outputs": [
    {
     "name": "stdout",
     "output_type": "stream",
     "text": [
      "l = [0, 1, 2, 3, 4, 5, 6, 7, 8, 9, 10, 11, 12, 13, 14]\n",
      "l = [0, 0, 0, 0, 0, 0, 0, 0, 0, 0, 0, 0, 0, 0, 0]\n",
      "l[14] = 0\n"
     ]
    }
   ],
   "source": [
    "l = [0] * 15 # using list * operator\n",
    "print(f\"l = {l}\")\n",
    "print(f\"l[14] = {l[14]}\")"
   ]
  },
  {
   "cell_type": "code",
   "execution_count": 84,
   "id": "dac8883e",
   "metadata": {},
   "outputs": [
    {
     "name": "stdout",
     "output_type": "stream",
     "text": [
      "l2D = [[0, 0, 0, 0, 0, 0, 0, 0, 0, 0, 0, 0, 0, 0, 0], [0, 0, 0, 0, 0, 0, 0, 0, 0, 0, 0, 0, 0, 0, 0], [0, 0, 0, 0, 0, 0, 0, 0, 0, 0, 0, 0, 0, 0, 0]]\n",
      "l2D_random = \n"
     ]
    },
    {
     "data": {
      "text/plain": [
       "[[1, 11, 10, 11, 7, 6, 11, 4, 9, 8, 6, 7, 8, 10, 7],\n",
       " [0, 2, 11, 8, 10, 0, 0, 5, 3, 5, 12, 12, 6, 7, 5],\n",
       " [13, 13, 8, 1, 7, 6, 11, 11, 2, 14, 3, 6, 12, 11, 8]]"
      ]
     },
     "execution_count": 84,
     "metadata": {},
     "output_type": "execute_result"
    }
   ],
   "source": [
    "# 2d Lists\n",
    "l2D = [[0]*15] *3 # using list * operator again\n",
    "print(f\"l2D = {l2D}\")\n",
    "l2D[2][14]\n",
    "l2D[-1][-1] # last elements in each dimension\n",
    "\n",
    "l2D_random = [[random.randint(0,14) for i in range(15)] for i in range(3)]\n",
    "print(\"l2D_random = \")\n",
    "l2D_random"
   ]
  },
  {
   "cell_type": "code",
   "execution_count": 54,
   "id": "ecce8979",
   "metadata": {},
   "outputs": [
    {
     "data": {
      "text/plain": [
       "('first',\n",
       " 'second',\n",
       " 'first',\n",
       " 'second',\n",
       " 'first',\n",
       " 'second',\n",
       " 'first',\n",
       " 'second',\n",
       " 'first',\n",
       " 'second',\n",
       " 'first',\n",
       " 'second',\n",
       " 'first',\n",
       " 'second',\n",
       " 'first',\n",
       " 'second',\n",
       " 'first',\n",
       " 'second',\n",
       " 'first',\n",
       " 'second',\n",
       " 'first',\n",
       " 'second',\n",
       " 'first',\n",
       " 'second',\n",
       " 'first',\n",
       " 'second',\n",
       " 'first',\n",
       " 'second',\n",
       " 'first',\n",
       " 'second',\n",
       " 'first',\n",
       " 'second')"
      ]
     },
     "execution_count": 54,
     "metadata": {},
     "output_type": "execute_result"
    }
   ],
   "source": [
    "# Tuples\n",
    "t = (((\"first\", \"second\") *2) * 4) * 2 # can only ever be one-dimensional\n",
    "t"
   ]
  },
  {
   "cell_type": "markdown",
   "id": "59f2f888",
   "metadata": {},
   "source": [
    "## Operators"
   ]
  },
  {
   "cell_type": "code",
   "execution_count": 95,
   "id": "d2afe2ef",
   "metadata": {},
   "outputs": [
    {
     "name": "stdout",
     "output_type": "stream",
     "text": [
      "1 * 2 = 2\n",
      "2Dlist * 2 = [[0, 0, 0, 0, 0, 0, 0, 0, 0, 0, 0, 0, 0, 0, 0], [0, 0, 0, 0, 0, 0, 0, 0, 0, 0, 0, 0, 0, 0, 0], [0, 0, 0, 0, 0, 0, 0, 0, 0, 0, 0, 0, 0, 0, 0], [0, 0, 0, 0, 0, 0, 0, 0, 0, 0, 0, 0, 0, 0, 0], [0, 0, 0, 0, 0, 0, 0, 0, 0, 0, 0, 0, 0, 0, 0], [0, 0, 0, 0, 0, 0, 0, 0, 0, 0, 0, 0, 0, 0, 0]]\n",
      "(((('first', 'last')) * 2) *2) * 2) = ('first', 'last', 'first', 'last', 'first', 'last', 'first', 'last', 'first', 'last', 'first', 'last', 'first', 'last', 'first', 'last')\n"
     ]
    }
   ],
   "source": [
    "# * multiplicative\n",
    "print(f\"1 * 2 = {1 * 2}\")\n",
    "print(f\"2Dlist * 2 = {l2D * 2}\")\n",
    "print(f\"(((('first', 'last')) * 2) *2) * 2) = {(((('first', 'last') * 2) *2) * 2)}\")"
   ]
  },
  {
   "cell_type": "code",
   "execution_count": 114,
   "id": "2e715490",
   "metadata": {},
   "outputs": [
    {
     "name": "stdout",
     "output_type": "stream",
     "text": [
      "1 + 2 = 3\n",
      "(((('first', 'last')) + (2,)) +(2,)) + (2,)) = ('first', 'last', 2, 2, 2)\n"
     ]
    }
   ],
   "source": [
    "# + additive\n",
    "print(f\"1 + 2 = {1 + 2}\")\n",
    "#print(f\"2Dlist + 2 = {l2D + 2}\") # cannot concat int into lists\n",
    "print(f\"(((('first', 'last')) + (2,)) +(2,)) + (2,)) = {(((('first', 'last') + (2,)) +(2,)) + (2,))}\")"
   ]
  },
  {
   "cell_type": "code",
   "execution_count": 112,
   "id": "745d2cec",
   "metadata": {},
   "outputs": [
    {
     "name": "stdout",
     "output_type": "stream",
     "text": [
      "float division 1 / 3 = 0.3333333333333333\n",
      "integer division 1 // 3 = 0\n",
      "days // 7  = 2\n",
      "days / 7  = 2.857142857142857\n"
     ]
    }
   ],
   "source": [
    "# / division (float)\n",
    "print(f\"float division 1 / 3 = {1 / 3}\")\n",
    "\n",
    "# // indiger division\n",
    "print(f\"integer division 1 // 3 = {1 // 3}\")\n",
    "days = 20\n",
    "weeks = 20 // 7\n",
    "print(f\"days // 7  = {days // 7}\")\n",
    "print(f\"days / 7  = {days / 7}\")"
   ]
  },
  {
   "cell_type": "code",
   "execution_count": 111,
   "id": "242084a8",
   "metadata": {},
   "outputs": [
    {
     "name": "stdout",
     "output_type": "stream",
     "text": [
      "20 days = 2 weeks and 6 days\n"
     ]
    }
   ],
   "source": [
    "# integer modulo operator\n",
    "days_r = days % 7 # divides days by 7 and gives you the remainder\n",
    "print(f\"20 days = {weeks} weeks and {days_r} days\")"
   ]
  }
 ],
 "metadata": {
  "kernelspec": {
   "display_name": "Python 3 (ipykernel)",
   "language": "python",
   "name": "python3"
  },
  "language_info": {
   "codemirror_mode": {
    "name": "ipython",
    "version": 3
   },
   "file_extension": ".py",
   "mimetype": "text/x-python",
   "name": "python",
   "nbconvert_exporter": "python",
   "pygments_lexer": "ipython3",
   "version": "3.9.7"
  }
 },
 "nbformat": 4,
 "nbformat_minor": 5
}
