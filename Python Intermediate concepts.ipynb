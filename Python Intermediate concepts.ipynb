{
 "cells": [
  {
   "cell_type": "markdown",
   "id": "0ab10509",
   "metadata": {},
   "source": [
    "# Intermediate python\n",
    "\n",
    " * Conditionals\n",
    "    * If statements\n",
    "    * Else-if chains\n",
    " * Loops\n",
    "    * Iterables like range() and list()\n",
    "    * List comprehension\n",
    " * Functions\n",
    " * Classes & Methods"
   ]
  },
  {
   "cell_type": "markdown",
   "id": "d50330ef",
   "metadata": {},
   "source": [
    "## Conditionals"
   ]
  },
  {
   "cell_type": "code",
   "execution_count": 13,
   "id": "47a02a3e",
   "metadata": {},
   "outputs": [],
   "source": [
    "# if statements\n",
    "if True:\n",
    "    # do something\n",
    "    pass\n",
    "else:\n",
    "    # do something else instead\n",
    "    pass"
   ]
  },
  {
   "cell_type": "code",
   "execution_count": 14,
   "id": "be64954b",
   "metadata": {},
   "outputs": [
    {
     "name": "stdout",
     "output_type": "stream",
     "text": [
      "randBool = True\n"
     ]
    }
   ],
   "source": [
    "# if statement based on a random or other calculation\n",
    "import random\n",
    "randBool = random.choice([True, False])\n",
    "if randBool:\n",
    "    print(f\"randBool = True\")\n",
    "    pass\n",
    "else:\n",
    "    print(f\"randBool = False\")    \n",
    "    pass"
   ]
  },
  {
   "cell_type": "code",
   "execution_count": 15,
   "id": "c6ea2428",
   "metadata": {},
   "outputs": [
    {
     "name": "stdout",
     "output_type": "stream",
     "text": [
      "randInt = 0\n"
     ]
    }
   ],
   "source": [
    "# if - else chain\n",
    "randInt = random.choice([None, 0, 1])\n",
    "if randInt == 0:\n",
    "    print(\"randInt = 0\")\n",
    "    pass\n",
    "elif randInt == 1:\n",
    "    print(\"randInt = 1\")\n",
    "    pass\n",
    "else: #default\n",
    "    print(f\"randInt = {randInt}\")\n",
    "    pass"
   ]
  },
  {
   "cell_type": "code",
   "execution_count": 16,
   "id": "17448e1e",
   "metadata": {},
   "outputs": [
    {
     "name": "stdout",
     "output_type": "stream",
     "text": [
      "randInt = 0 OR randBool = True\n"
     ]
    }
   ],
   "source": [
    "# compound conditionals\n",
    "import random\n",
    "randBool = random.choice([True, False])\n",
    "randInt = random.choice([None, 0, 1])\n",
    "if (randInt == 0) or (randBool):\n",
    "    print(\"randInt = 0 OR randBool = True\")\n",
    "    pass\n",
    "elif (randInt == 1) and (randBool == False):\n",
    "    print(\"randInt = 1 AND randBool = False\")\n",
    "    pass\n",
    "else: #default\n",
    "    print(f\"randInt = {randInt}, randBool = {randBool}\")\n",
    "    pass"
   ]
  },
  {
   "cell_type": "markdown",
   "id": "4b7089e4",
   "metadata": {},
   "source": [
    "## Loops\n"
   ]
  },
  {
   "cell_type": "code",
   "execution_count": 17,
   "id": "b6d7237b",
   "metadata": {},
   "outputs": [
    {
     "name": "stdout",
     "output_type": "stream",
     "text": [
      "range (12) = range(0, 12)\n",
      "i = 0\n",
      "i = 1\n",
      "i = 2\n",
      "i = 3\n",
      "i = 4\n",
      "i = 5\n",
      "i = 6\n",
      "i = 7\n",
      "i = 8\n",
      "i = 9\n",
      "i = 10\n",
      "i = 11\n"
     ]
    }
   ],
   "source": [
    "# loops with indexes\n",
    "print(f\"range (12) = {range (12)}\")\n",
    "\n",
    "# example of what range(int) returns\n",
    "for i in range(12):\n",
    "    print(f\"i = {i}\")\n",
    "    pass"
   ]
  },
  {
   "cell_type": "code",
   "execution_count": 18,
   "id": "cbaa475b",
   "metadata": {},
   "outputs": [
    {
     "name": "stdout",
     "output_type": "stream",
     "text": [
      "l = \n",
      "[0.36525631 0.21905425 0.68974021 0.23637472 0.2141543  0.52847298\n",
      " 0.77308908 0.37164808 0.31610342 0.56015124 0.56114085 0.24995023]\n"
     ]
    }
   ],
   "source": [
    "import numpy as np\n",
    "l = np.random.rand(12)\n",
    "print(f\"l = \\n{l}\")"
   ]
  },
  {
   "cell_type": "code",
   "execution_count": 19,
   "id": "1fb8eb9c",
   "metadata": {},
   "outputs": [
    {
     "name": "stdout",
     "output_type": "stream",
     "text": [
      "l[0] = 0.36525630936560394\n",
      "l[1] = 0.2190542514451448\n",
      "l[2] = 0.689740212764952\n",
      "l[3] = 0.23637472444159224\n",
      "l[4] = 0.2141543028752133\n",
      "l[5] = 0.5284729788160876\n",
      "l[6] = 0.7730890845894096\n",
      "l[7] = 0.37164807924299004\n",
      "l[8] = 0.3161034189706017\n",
      "l[9] = 0.5601512447087238\n",
      "l[10] = 0.5611408505915236\n",
      "l[11] = 0.24995023246943593\n"
     ]
    }
   ],
   "source": [
    "# example using range(length(list))\n",
    "for i in range(len(l)):\n",
    "    print(f\"l[{i}] = {l[i]}\")\n",
    "    pass"
   ]
  },
  {
   "cell_type": "code",
   "execution_count": 20,
   "id": "139d4db0",
   "metadata": {},
   "outputs": [
    {
     "name": "stdout",
     "output_type": "stream",
     "text": [
      "f = 0.36525630936560394\n",
      "f = 0.2190542514451448\n",
      "f = 0.689740212764952\n",
      "f = 0.23637472444159224\n",
      "f = 0.2141543028752133\n",
      "f = 0.5284729788160876\n",
      "f = 0.7730890845894096\n",
      "f = 0.37164807924299004\n",
      "f = 0.3161034189706017\n",
      "f = 0.5601512447087238\n",
      "f = 0.5611408505915236\n",
      "f = 0.24995023246943593\n"
     ]
    }
   ],
   "source": [
    "# loop through items in a iterable\n",
    "for f in l: # comparable to C# foreach loops\n",
    "    print(f\"f = {f}\")"
   ]
  },
  {
   "cell_type": "code",
   "execution_count": 21,
   "id": "5fce3636",
   "metadata": {},
   "outputs": [
    {
     "name": "stdout",
     "output_type": "stream",
     "text": [
      "arr = \n",
      "[[0.4275407210480857, 0.6408109746135805, 0.9881005360429556], [0.740504045511177, 0.5179850601037322, 0.8880975438825939], [0.404802632852313, 0.876091658589962, 0.6858224574079977]]\n"
     ]
    }
   ],
   "source": [
    "# loop to create a 2D array\n",
    "arr = []\n",
    "for i in range(3):\n",
    "    arrJ = []\n",
    "    for j in range (3):\n",
    "        arrJ.append(np.random.rand())\n",
    "    arr.append(arrJ)\n",
    "print(f\"arr = \\n{arr}\")"
   ]
  },
  {
   "cell_type": "code",
   "execution_count": 22,
   "id": "c46a4842",
   "metadata": {
    "scrolled": true
   },
   "outputs": [
    {
     "name": "stdout",
     "output_type": "stream",
     "text": [
      "arrListComp = \n",
      "[0, 1, 2]\n"
     ]
    }
   ],
   "source": [
    "# List comprehension 1D\n",
    "arrListComp = [i for i in range(3)]\n",
    "print(f\"arrListComp = \\n{arrListComp}\")"
   ]
  },
  {
   "cell_type": "code",
   "execution_count": 23,
   "id": "857d56a1",
   "metadata": {},
   "outputs": [
    {
     "name": "stdout",
     "output_type": "stream",
     "text": [
      "arrListComp = \n",
      "[[0, 1, 2], [1, 2, 3], [2, 3, 4]]\n"
     ]
    }
   ],
   "source": [
    "# List comprehension 2D\n",
    "arrListComp2D = [[j+i for j in range(3)] for i in range(3)]\n",
    "print(f\"arrListComp = \\n{arrListComp2D}\")"
   ]
  },
  {
   "cell_type": "code",
   "execution_count": 24,
   "id": "e1a74d08",
   "metadata": {},
   "outputs": [
    {
     "name": "stdout",
     "output_type": "stream",
     "text": [
      "arrListComp2D = \n",
      "[[0.4328473928902029, 0.2399234710366851, 0.9324008306603049], [0.40322701527053917, 0.5848242750973346, 0.07571525489122899], [0.6656363994884146, 0.30167453574583203, 0.1665090551440387]]\n"
     ]
    }
   ],
   "source": [
    "# List comprehension 2D with function\n",
    "arrListComp2D = [[np.random.rand() for j in range(3)] for i in range(3)]\n",
    "print(f\"arrListComp2D = \\n{arrListComp2D}\")"
   ]
  },
  {
   "cell_type": "markdown",
   "id": "cefe1f56",
   "metadata": {},
   "source": [
    "## Functions"
   ]
  },
  {
   "cell_type": "markdown",
   "id": "e0bd651a",
   "metadata": {},
   "source": [
    "### Basic functions with one argument"
   ]
  },
  {
   "cell_type": "code",
   "execution_count": 34,
   "id": "6ef944b8",
   "metadata": {},
   "outputs": [
    {
     "name": "stdout",
     "output_type": "stream",
     "text": [
      "sqrt(9) = 3.0\n"
     ]
    }
   ],
   "source": [
    "# define funcName (args)\n",
    "def sqrt(num):\n",
    "    import math\n",
    "    root = None\n",
    "    \n",
    "    root = math.pow(num, 1/2)\n",
    "\n",
    "    return root\n",
    "    pass\n",
    "\n",
    "print(f\"sqrt(9) = {sqrt(9)}\")"
   ]
  },
  {
   "cell_type": "markdown",
   "id": "e37f0fd8",
   "metadata": {},
   "source": [
    "### Handling unexpected types"
   ]
  },
  {
   "cell_type": "code",
   "execution_count": 35,
   "id": "79c080e2",
   "metadata": {},
   "outputs": [
    {
     "ename": "TypeError",
     "evalue": "must be real number, not str",
     "output_type": "error",
     "traceback": [
      "\u001b[1;31m---------------------------------------------------------------------------\u001b[0m",
      "\u001b[1;31mTypeError\u001b[0m                                 Traceback (most recent call last)",
      "\u001b[1;32m~\\AppData\\Local\\Temp/ipykernel_11656/1616425887.py\u001b[0m in \u001b[0;36m<module>\u001b[1;34m\u001b[0m\n\u001b[1;32m----> 1\u001b[1;33m \u001b[0msqrt\u001b[0m\u001b[1;33m(\u001b[0m\u001b[1;34m\"Hello World!\"\u001b[0m\u001b[1;33m)\u001b[0m \u001b[1;31m# this will throw an error\u001b[0m\u001b[1;33m\u001b[0m\u001b[1;33m\u001b[0m\u001b[0m\n\u001b[0m",
      "\u001b[1;32m~\\AppData\\Local\\Temp/ipykernel_11656/1233651439.py\u001b[0m in \u001b[0;36msqrt\u001b[1;34m(num)\u001b[0m\n\u001b[0;32m      4\u001b[0m     \u001b[0mroot\u001b[0m \u001b[1;33m=\u001b[0m \u001b[1;32mNone\u001b[0m\u001b[1;33m\u001b[0m\u001b[1;33m\u001b[0m\u001b[0m\n\u001b[0;32m      5\u001b[0m \u001b[1;33m\u001b[0m\u001b[0m\n\u001b[1;32m----> 6\u001b[1;33m     \u001b[0mroot\u001b[0m \u001b[1;33m=\u001b[0m \u001b[0mmath\u001b[0m\u001b[1;33m.\u001b[0m\u001b[0mpow\u001b[0m\u001b[1;33m(\u001b[0m\u001b[0mnum\u001b[0m\u001b[1;33m,\u001b[0m \u001b[1;36m1\u001b[0m\u001b[1;33m/\u001b[0m\u001b[1;36m2\u001b[0m\u001b[1;33m)\u001b[0m\u001b[1;33m\u001b[0m\u001b[1;33m\u001b[0m\u001b[0m\n\u001b[0m\u001b[0;32m      7\u001b[0m \u001b[1;33m\u001b[0m\u001b[0m\n\u001b[0;32m      8\u001b[0m     \u001b[1;32mreturn\u001b[0m \u001b[0mroot\u001b[0m\u001b[1;33m\u001b[0m\u001b[1;33m\u001b[0m\u001b[0m\n",
      "\u001b[1;31mTypeError\u001b[0m: must be real number, not str"
     ]
    }
   ],
   "source": [
    "sqrt(\"Hello World!\") # this will throw an error"
   ]
  },
  {
   "cell_type": "code",
   "execution_count": 26,
   "id": "ecd648bb",
   "metadata": {},
   "outputs": [
    {
     "name": "stdout",
     "output_type": "stream",
     "text": [
      "sqrt(9) = 3.0\n",
      "'Hello World!' is not a real number -- data type = <class 'str'>\n"
     ]
    }
   ],
   "source": [
    "# handle unexpected data types\n",
    "def sqrt(num):\n",
    "    import math\n",
    "    root = None\n",
    "    \n",
    "    try:\n",
    "        root = math.pow(num, 1/2)\n",
    "    except:\n",
    "        print(f\"'{num}' is not a real number -- data type = {type(num)}\")\n",
    "        pass\n",
    "\n",
    "    return root\n",
    "    pass\n",
    "\n",
    "print(f\"sqrt(9) = {sqrt(9)}\")\n",
    "sqrt(\"Hello World!\") # this will throw an error"
   ]
  },
  {
   "cell_type": "code",
   "execution_count": 27,
   "id": "c8ed5c59",
   "metadata": {},
   "outputs": [
    {
     "data": {
      "text/plain": [
       "['100.0%',\n",
       " '200.0%',\n",
       " '300.0%',\n",
       " '400.0%',\n",
       " '500.0%',\n",
       " '600.0%',\n",
       " '700.0%',\n",
       " '800.0%',\n",
       " '900.0%',\n",
       " '1,000.0%']"
      ]
     },
     "execution_count": 27,
     "metadata": {},
     "output_type": "execute_result"
    }
   ],
   "source": [
    "import math\n",
    "\n",
    "def percent(num):\n",
    "    assert (type(num) == int) or (type(num) == float)\n",
    "\n",
    "    perc = num * 100\n",
    "    \n",
    "    perc_s = f\"{perc:,.1f}%\"\n",
    "    \n",
    "    return perc_s\n",
    "\n",
    "[percent(x) for x in range(1,11)]\n",
    "# [percent(char) for char in \"Hello World!\"]"
   ]
  },
  {
   "cell_type": "code",
   "execution_count": 29,
   "id": "94a0cd9f",
   "metadata": {},
   "outputs": [
    {
     "name": "stdout",
     "output_type": "stream",
     "text": [
      "parameter1 = 1\n",
      "parameter2 = 2\n",
      "etc = 3\n",
      "parameter1 = 1\n",
      "parameter2 = 2\n",
      "etc = baz\n"
     ]
    }
   ],
   "source": [
    "# define a fuction by name (parameters go in prentheses = \"default values\")\n",
    "def fncName (parameter1 = \"foo\", parameter2 = \"bar\", etc = \"baz\"):\n",
    "    print(f\"parameter1 = {parameter1}\")\n",
    "    print(f\"parameter2 = {parameter2}\")\n",
    "    print(f\"etc = {etc}\")\n",
    "    \n",
    "fncName(1, 2, 3)\n",
    "fncName(1, 2)"
   ]
  },
  {
   "cell_type": "code",
   "execution_count": 59,
   "id": "8b89060c",
   "metadata": {},
   "outputs": [
    {
     "name": "stdout",
     "output_type": "stream",
     "text": [
      "parameter1 = foo\n",
      "parameter2 = bar\n",
      "etc = 3\n"
     ]
    }
   ],
   "source": [
    "fncName(etc = 3)"
   ]
  },
  {
   "cell_type": "markdown",
   "id": "c52b938c",
   "metadata": {},
   "source": [
    "### *args"
   ]
  },
  {
   "cell_type": "code",
   "execution_count": 33,
   "id": "e2948b7a",
   "metadata": {},
   "outputs": [
    {
     "name": "stdout",
     "output_type": "stream",
     "text": [
      "arg = '1'\n",
      "arg of unkown type = [2, 4, 6]\n",
      "arg = 3\n"
     ]
    },
    {
     "ename": "TypeError",
     "evalue": "fncNameWithArgs() got an unexpected keyword argument 'etc'",
     "output_type": "error",
     "traceback": [
      "\u001b[1;31m---------------------------------------------------------------------------\u001b[0m",
      "\u001b[1;31mTypeError\u001b[0m                                 Traceback (most recent call last)",
      "\u001b[1;32m~\\AppData\\Local\\Temp/ipykernel_11656/3716149465.py\u001b[0m in \u001b[0;36m<module>\u001b[1;34m\u001b[0m\n\u001b[0;32m     17\u001b[0m \u001b[1;33m\u001b[0m\u001b[0m\n\u001b[0;32m     18\u001b[0m \u001b[0mfncNameWithArgs\u001b[0m\u001b[1;33m(\u001b[0m\u001b[1;34m\"1\"\u001b[0m\u001b[1;33m,\u001b[0m \u001b[1;33m[\u001b[0m\u001b[1;36m2\u001b[0m\u001b[1;33m,\u001b[0m \u001b[1;36m4\u001b[0m\u001b[1;33m,\u001b[0m \u001b[1;36m6\u001b[0m\u001b[1;33m]\u001b[0m\u001b[1;33m,\u001b[0m \u001b[1;36m3\u001b[0m\u001b[1;33m)\u001b[0m\u001b[1;33m\u001b[0m\u001b[1;33m\u001b[0m\u001b[0m\n\u001b[1;32m---> 19\u001b[1;33m \u001b[0mfncNameWithArgs\u001b[0m\u001b[1;33m(\u001b[0m\u001b[0metc\u001b[0m \u001b[1;33m=\u001b[0m \u001b[1;36m5\u001b[0m\u001b[1;33m)\u001b[0m\u001b[1;33m\u001b[0m\u001b[1;33m\u001b[0m\u001b[0m\n\u001b[0m",
      "\u001b[1;31mTypeError\u001b[0m: fncNameWithArgs() got an unexpected keyword argument 'etc'"
     ]
    }
   ],
   "source": [
    "# args example\n",
    "def fncNameWithArgs(*args):\n",
    "    for arg in args:\n",
    "        if type(arg) == str:\n",
    "            print(f\"arg = '{arg}'\")\n",
    "            pass\n",
    "        elif type(arg) == int:\n",
    "            print(f\"arg = {arg}\")\n",
    "            pass\n",
    "        else:\n",
    "            print(f\"arg of unkown type = {arg}\")\n",
    "            pass\n",
    "        pass\n",
    "    \n",
    "    return args\n",
    "    pass\n",
    "\n",
    "fncNameWithArgs(\"1\", [2, 4, 6], 3)\n",
    "fncNameWithArgs(etc = 5)"
   ]
  },
  {
   "cell_type": "markdown",
   "id": "b4d83182",
   "metadata": {},
   "source": [
    "### **kwargs"
   ]
  },
  {
   "cell_type": "code",
   "execution_count": 37,
   "id": "9efb7d7e",
   "metadata": {},
   "outputs": [
    {
     "name": "stdout",
     "output_type": "stream",
     "text": [
      "kwarg1 = '1'\n",
      "kwarg2 = 2\n",
      "kwarg of unkown type: key = kwarg3, value = [1, 3, 5]\n"
     ]
    },
    {
     "data": {
      "text/plain": [
       "{'kwarg1': '1', 'kwarg2': 2, 'kwarg3': [1, 3, 5]}"
      ]
     },
     "execution_count": 37,
     "metadata": {},
     "output_type": "execute_result"
    }
   ],
   "source": [
    "# args example\n",
    "def fncNameWithKwargs(**kwargs):\n",
    "    for key, value in kwargs.items():\n",
    "        if type(kwargs[key]) == str:\n",
    "            print(f\"{key} = '{value}'\")\n",
    "            pass\n",
    "        elif type(kwargs[key]) == int:\n",
    "            print(f\"{key} = {value}\")\n",
    "            pass\n",
    "        else:\n",
    "            print(f\"kwarg of unkown type: key = {key}, value = {value}\")\n",
    "            pass\n",
    "        pass\n",
    "    \n",
    "    return kwargs\n",
    "    pass\n",
    "\n",
    "fncNameWithKwargs(kwarg1 = \"1\", kwarg2 = 2, kwarg3 = [1,3,5])"
   ]
  },
  {
   "cell_type": "code",
   "execution_count": 38,
   "id": "ef274f79",
   "metadata": {},
   "outputs": [
    {
     "ename": "TypeError",
     "evalue": "fncNameWithArgs() takes 0 positional arguments but 1 was given",
     "output_type": "error",
     "traceback": [
      "\u001b[1;31m---------------------------------------------------------------------------\u001b[0m",
      "\u001b[1;31mTypeError\u001b[0m                                 Traceback (most recent call last)",
      "\u001b[1;32m~\\AppData\\Local\\Temp/ipykernel_11656/3072011034.py\u001b[0m in \u001b[0;36m<module>\u001b[1;34m\u001b[0m\n\u001b[1;32m----> 1\u001b[1;33m \u001b[0mfncNameWithArgs\u001b[0m\u001b[1;33m(\u001b[0m\u001b[1;36m3\u001b[0m\u001b[1;33m,\u001b[0m \u001b[0mkwarg1\u001b[0m \u001b[1;33m=\u001b[0m \u001b[1;34m\"1\"\u001b[0m\u001b[1;33m,\u001b[0m \u001b[0mkwarg2\u001b[0m \u001b[1;33m=\u001b[0m \u001b[1;36m2\u001b[0m\u001b[1;33m,\u001b[0m \u001b[0mkwarg3\u001b[0m \u001b[1;33m=\u001b[0m \u001b[1;33m[\u001b[0m\u001b[1;36m1\u001b[0m\u001b[1;33m,\u001b[0m\u001b[1;36m3\u001b[0m\u001b[1;33m,\u001b[0m\u001b[1;36m5\u001b[0m\u001b[1;33m]\u001b[0m\u001b[1;33m)\u001b[0m\u001b[1;33m\u001b[0m\u001b[1;33m\u001b[0m\u001b[0m\n\u001b[0m",
      "\u001b[1;31mTypeError\u001b[0m: fncNameWithArgs() takes 0 positional arguments but 1 was given"
     ]
    }
   ],
   "source": [
    "fncNameWithKwargs(3, kwarg1 = \"1\", kwarg2 = 2, kwarg3 = [1,3,5])"
   ]
  },
  {
   "cell_type": "code",
   "execution_count": 39,
   "id": "95e4fe62",
   "metadata": {},
   "outputs": [
    {
     "name": "stdout",
     "output_type": "stream",
     "text": [
      "arg = 3\n",
      "kwarg1 = '1'\n",
      "kwarg2 = 2\n",
      "kwarg of unkown type: key = kwarg3, value = [1, 3, 5]\n"
     ]
    },
    {
     "data": {
      "text/plain": [
       "((3,), {'kwarg1': '1', 'kwarg2': 2, 'kwarg3': [1, 3, 5]})"
      ]
     },
     "execution_count": 39,
     "metadata": {},
     "output_type": "execute_result"
    }
   ],
   "source": [
    "def fncNameWithArgsAndKwargs(*args, **kwargs):\n",
    "    for arg in args:\n",
    "        if type(arg) == str:\n",
    "            print(f\"arg = '{arg}'\")\n",
    "            pass\n",
    "        elif type(arg) == int:\n",
    "            print(f\"arg = {arg}\")\n",
    "            pass\n",
    "        else:\n",
    "            print(f\"arg of unkown type = {arg}\")\n",
    "            pass\n",
    "        pass\n",
    "    \n",
    "\n",
    "    for key, value in kwargs.items():\n",
    "        if type(kwargs[key]) == str:\n",
    "            print(f\"{key} = '{value}'\")\n",
    "            pass\n",
    "        elif type(kwargs[key]) == int:\n",
    "            print(f\"{key} = {value}\")\n",
    "            pass\n",
    "        else:\n",
    "            print(f\"kwarg of unkown type: key = {key}, value = {value}\")\n",
    "            pass\n",
    "        pass\n",
    "    \n",
    "    return (args, kwargs)\n",
    "    pass\n",
    "\n",
    "fncNameWithArgsAndKwargs(3, kwarg1 = \"1\", kwarg2 = 2, kwarg3 = [1,3,5])"
   ]
  },
  {
   "cell_type": "code",
   "execution_count": 43,
   "id": "38ccc2d9",
   "metadata": {
    "scrolled": true
   },
   "outputs": [
    {
     "name": "stdout",
     "output_type": "stream",
     "text": [
      "1/4 = 0.25\n",
      "1//4 = 0\n",
      "5/4 = 1.25\n",
      "5//4 = 1\n",
      "11/4 = 2.75\n",
      "11//4 = 2\n"
     ]
    }
   ],
   "source": [
    "# Floor division (Integer division) review\n",
    "print(f\"1/4 = {1/4}\")\n",
    "print(f\"1//4 = {1//4}\")\n",
    "\n",
    "print(f\"5/4 = {5/4}\")\n",
    "print(f\"5//4 = {5//4}\")\n",
    "\n",
    "print(f\"11/4 = {11/4}\")\n",
    "print(f\"11//4 = {11//4}\")"
   ]
  },
  {
   "cell_type": "code",
   "execution_count": 40,
   "id": "95ee1ed7",
   "metadata": {},
   "outputs": [
    {
     "name": "stdout",
     "output_type": "stream",
     "text": [
      "list = [0.83761705 0.5684365  0.80614466 0.31557473 0.53671358 0.70273123\n",
      " 0.08462683 0.4807036  0.75914116 0.89029861 0.83270644 0.70030001]\n",
      "list_sorted = [0.08462683 0.31557473 0.4807036  0.53671358 0.5684365  0.70030001\n",
      " 0.70273123 0.75914116 0.80614466 0.83270644 0.83761705 0.89029861]\n",
      "Q1 of list = 0.5367135787891837\n"
     ]
    },
    {
     "data": {
      "text/plain": [
       "0.5367135787891837"
      ]
     },
     "execution_count": 40,
     "metadata": {},
     "output_type": "execute_result"
    }
   ],
   "source": [
    "def Q1(L): # def defines a function, Q1 is the name of the fnc, () accepts arguments\n",
    "    \n",
    "    q1_i = len(L)//4\n",
    "    list_sorted = np.sort(L)\n",
    "    q1 = list_sorted[q1_i]\n",
    "    \n",
    "    print(f\"list = {L}\")\n",
    "    print(f\"list_sorted = {list_sorted}\")\n",
    "    print(f\"Q1 of list = {q1}\")\n",
    "    \n",
    "    return q1\n",
    "\n",
    "data = np.random.rand(12)\n",
    "Q1(data)"
   ]
  },
  {
   "cell_type": "markdown",
   "id": "204de4b4",
   "metadata": {},
   "source": [
    "## Classes & Methods"
   ]
  },
  {
   "cell_type": "code",
   "execution_count": 43,
   "id": "b6d29e2b",
   "metadata": {},
   "outputs": [
    {
     "name": "stdout",
     "output_type": "stream",
     "text": [
      "FinancialPortfolio class instance created = <__main__.FinancialPortfolio object at 0x000002352194D550>\n",
      "Anisha's Portfolio :: printing.\n",
      "        cash = $-10.00\n",
      "       bonds = $1,000.00\n",
      "      stocks = $3,000,000.00\n",
      "        alts = $15.00\n",
      "Anisha's Portfolio net worth = $3,001,005.00\n"
     ]
    }
   ],
   "source": [
    "# 'class' declares a class, 'FinancialPortfolio' is its name\n",
    "class FinancialPortfolio: \n",
    "    def __init__(self, name = \"\", cash = 0, bonds = 0, stocks = 0, alternatives = 0):\n",
    "        print(f\"FinancialPortfolio class instance created = {self}\")\n",
    "        self.name   = name\n",
    "        self.cash   = cash\n",
    "        self.bonds  = bonds\n",
    "        self.stocks = stocks\n",
    "        self.alts   = alternatives\n",
    "        \n",
    "        return\n",
    "    \n",
    "    def Print(self):\n",
    "        print(f'{self.name}\\'s Portfolio :: printing.')\n",
    "        print(f'        cash = ${self.cash:,.2f}')\n",
    "        print(f'       bonds = ${self.bonds:,.2f}')\n",
    "        print(f'      stocks = ${self.stocks:,.2f}')\n",
    "        print(f'        alts = ${self.alts:,.2f}')\n",
    "        \n",
    "    def PrintNetWorth(self):\n",
    "        net = self.cash + self.bonds + self.stocks + self.alts\n",
    "        print(f'{self.name}\\'s Portfolio net worth = ${net:,.2f}')    \n",
    "\n",
    "    pass\n",
    "\n",
    "# create an instance of the class\n",
    "portfolio = FinancialPortfolio(\"Anisha\", -10, 1000, 3000000, 15)\n",
    "\n",
    "# call some of its functions\n",
    "portfolio.Print()\n",
    "portfolio.PrintNetWorth()"
   ]
  }
 ],
 "metadata": {
  "kernelspec": {
   "display_name": "Python 3 (ipykernel)",
   "language": "python",
   "name": "python3"
  },
  "language_info": {
   "codemirror_mode": {
    "name": "ipython",
    "version": 3
   },
   "file_extension": ".py",
   "mimetype": "text/x-python",
   "name": "python",
   "nbconvert_exporter": "python",
   "pygments_lexer": "ipython3",
   "version": "3.9.7"
  }
 },
 "nbformat": 4,
 "nbformat_minor": 5
}
