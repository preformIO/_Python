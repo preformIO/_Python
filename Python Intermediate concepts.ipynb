{
 "cells": [
  {
   "cell_type": "markdown",
   "id": "0ab10509",
   "metadata": {},
   "source": [
    "# Intermediate python\n",
    "\n",
    " * Conditionals\n",
    "  * If statements\n",
    "  * Case statements\n",
    " * Loops\n",
    "  * List comprehension\n",
    " * Functions\n",
    " * Classes"
   ]
  },
  {
   "cell_type": "markdown",
   "id": "d50330ef",
   "metadata": {},
   "source": [
    "# Conditionals"
   ]
  },
  {
   "cell_type": "code",
   "execution_count": 32,
   "id": "c6ea2428",
   "metadata": {},
   "outputs": [
    {
     "name": "stdout",
     "output_type": "stream",
     "text": [
      "randBool = False\n",
      "randInt = None\n"
     ]
    }
   ],
   "source": [
    "# if statements\n",
    "if True:\n",
    "    # do something\n",
    "    pass\n",
    "\n",
    "# if statement based on a random or other calculation\n",
    "import random\n",
    "randBool = random.choice([True, False])\n",
    "if randBool:\n",
    "    print(f\"randBool = True\")\n",
    "    pass\n",
    "else:\n",
    "    print(f\"randBool = False\")    \n",
    "    pass\n",
    "    \n",
    "# if - else chain\n",
    "randInt = random.choice([None, 0, 1])\n",
    "if randInt == 0:\n",
    "    print(\"randInt = 0\")\n",
    "    pass\n",
    "elif randInt == 1:\n",
    "    print(\"randInt = 1\")\n",
    "    pass\n",
    "else:\n",
    "    print(f\"randInt = {randInt}\")\n",
    "    pass"
   ]
  },
  {
   "cell_type": "markdown",
   "id": "4b7089e4",
   "metadata": {},
   "source": [
    "## Loops\n"
   ]
  },
  {
   "cell_type": "code",
   "execution_count": 47,
   "id": "c46a4842",
   "metadata": {},
   "outputs": [
    {
     "name": "stdout",
     "output_type": "stream",
     "text": [
      "l = \n",
      "[0.41542055 0.58358838 0.68544171 0.85987882 0.30219451 0.77944085\n",
      " 0.47953038 0.56164694 0.75338697 0.15418611 0.11479898 0.93521741]\n",
      "range (12) = range(0, 12)\n",
      "i = 0\n",
      "i = 1\n",
      "i = 2\n",
      "i = 3\n",
      "i = 4\n",
      "i = 5\n",
      "i = 6\n",
      "i = 7\n",
      "i = 8\n",
      "i = 9\n",
      "i = 10\n",
      "i = 11\n",
      "l[0] = 0.4154205476641739\n",
      "l[1] = 0.5835883783398544\n",
      "l[2] = 0.6854417078556747\n",
      "l[3] = 0.8598788189093529\n",
      "l[4] = 0.30219451126665675\n",
      "l[5] = 0.7794408491405639\n",
      "l[6] = 0.4795303763084553\n",
      "l[7] = 0.5616469427956005\n",
      "l[8] = 0.7533869694350596\n",
      "l[9] = 0.15418610578084924\n",
      "l[10] = 0.11479897742239553\n",
      "l[11] = 0.9352174067792937\n",
      "f = 0.4154205476641739\n",
      "f = 0.5835883783398544\n",
      "f = 0.6854417078556747\n",
      "f = 0.8598788189093529\n",
      "f = 0.30219451126665675\n",
      "f = 0.7794408491405639\n",
      "f = 0.4795303763084553\n",
      "f = 0.5616469427956005\n",
      "f = 0.7533869694350596\n",
      "f = 0.15418610578084924\n",
      "f = 0.11479897742239553\n",
      "f = 0.9352174067792937\n",
      "arr = \n",
      "[[0.7246940437362355, 0.7740693198764967, 0.094248340735965], [0.10577915046409958, 0.4660245822229182, 0.40984507529301906], [0.10714691746731053, 0.3677992873285403, 0.7905063042733039]]\n",
      "arrListComp = \n",
      "[[0.4474991746022231, 0.39850164348613815, 0.25133849689088206], [0.7370618538172051, 0.627638387812284, 0.4418988510011652], [0.12603751164420962, 0.468751329042847, 0.7408568064129715]]\n"
     ]
    }
   ],
   "source": [
    "import numpy as np\n",
    "l = np.random.rand(12)\n",
    "print(f\"l = \\n{l}\")\n",
    "\n",
    "# loops with indexes\n",
    "print(f\"range (12) = {range (12)}\")\n",
    "for i in range (12):\n",
    "    print(f\"i = {i}\")\n",
    "for i in range(len(l)):\n",
    "    print(f\"l[{i}] = {l[i]}\")\n",
    "\n",
    "# loop through items in a iterable\n",
    "for f in l:\n",
    "    print(f\"f = {f}\")\n",
    "\n",
    "# loop to create a 2D array\n",
    "arr = []\n",
    "for i in range(3):\n",
    "    arrJ = []\n",
    "    for j in range (3):\n",
    "        arrJ.append(np.random.rand())\n",
    "    arr.append(arrJ)\n",
    "print(f\"arr = \\n{arr}\")\n",
    "\n",
    "# List comprehension\n",
    "arrListComp = [[np.random.rand() for i in range(3)] for i in range(3)]\n",
    "print(f\"arrListComp = \\n{arrListComp}\")"
   ]
  },
  {
   "cell_type": "markdown",
   "id": "cefe1f56",
   "metadata": {},
   "source": [
    "## Functions"
   ]
  },
  {
   "cell_type": "code",
   "execution_count": 52,
   "id": "95ee1ed7",
   "metadata": {},
   "outputs": [
    {
     "name": "stdout",
     "output_type": "stream",
     "text": [
      "list = [0.39264322 0.29969847 0.84839212 0.54316819 0.26857333 0.1194225\n",
      " 0.92795305 0.45236459 0.24990276 0.95469471 0.73917661 0.39712239]\n",
      "list_sorted = [0.1194225  0.24990276 0.26857333 0.29969847 0.39264322 0.39712239\n",
      " 0.45236459 0.54316819 0.73917661 0.84839212 0.92795305 0.95469471]\n",
      "Q1 of list = 0.2996984688158304\n"
     ]
    },
    {
     "data": {
      "text/plain": [
       "0.2996984688158304"
      ]
     },
     "execution_count": 52,
     "metadata": {},
     "output_type": "execute_result"
    }
   ],
   "source": [
    "def Q1(list): # def defines a function / class, Q1 is the name of the fnc/class, () accepts arguments\n",
    "    \n",
    "    q1_i = len(list)//4\n",
    "    list_sorted = np.sort(list)\n",
    "    q1 = list_sorted[q1_i]\n",
    "    \n",
    "    print(f\"list = {list}\")\n",
    "    print(f\"list_sorted = {list_sorted}\")\n",
    "    print(f\"Q1 of list = {q1}\")\n",
    "    \n",
    "    return q1\n",
    "\n",
    "data = np.random.rand(12)\n",
    "Q1(data)"
   ]
  },
  {
   "cell_type": "markdown",
   "id": "204de4b4",
   "metadata": {},
   "source": [
    "## Classes\n"
   ]
  },
  {
   "cell_type": "code",
   "execution_count": 71,
   "id": "b6d29e2b",
   "metadata": {},
   "outputs": [
    {
     "name": "stdout",
     "output_type": "stream",
     "text": [
      "FinancialPortfolio class instance created = <__main__.FinancialPortfolio object at 0x0000018E375CA7C0>\n",
      "Michael's Portfolio :: printing.\n",
      "        cash = $-100\n",
      "       bonds = $1\n",
      "      stocks = $3\n",
      "        alts = $15\n",
      "Michael's Portfolio net worth = $-81\n"
     ]
    }
   ],
   "source": [
    "class FinancialPortfolio: # class declares a class, TestClass is its name\n",
    "    def __init__(self, name, cash, bonds, stocks, alternatives):\n",
    "        print(f\"FinancialPortfolio class instance created = {self}\")\n",
    "        self.name   = name\n",
    "        self.cash   = cash\n",
    "        self.bonds  = bonds\n",
    "        self.stocks = stocks\n",
    "        self.alts   = alternatives\n",
    "        \n",
    "        return\n",
    "    \n",
    "    def Print(self):\n",
    "        print(f'{self.name} Portfolio :: printing.')\n",
    "        print(f'        cash = ${self.cash}')\n",
    "        print(f'       bonds = ${self.bonds}')\n",
    "        print(f'      stocks = ${self.stocks}')\n",
    "        print(f'        alts = ${self.alts}')\n",
    "        \n",
    "    def PrintNetWorth(self):\n",
    "        net = self.cash + self.bonds + self.stocks + self.alts\n",
    "        print(f'{self.name} Portfolio net worth = ${net}')    \n",
    "    pass\n",
    "# create an instance of the class\n",
    "port = FinancialPortfolio(\"Michael's\", -100, 1, 3, 15)\n",
    "\n",
    "# call some of its functions\n",
    "port.Print()\n",
    "port.PrintNetWorth()"
   ]
  }
 ],
 "metadata": {
  "kernelspec": {
   "display_name": "Python 3 (ipykernel)",
   "language": "python",
   "name": "python3"
  },
  "language_info": {
   "codemirror_mode": {
    "name": "ipython",
    "version": 3
   },
   "file_extension": ".py",
   "mimetype": "text/x-python",
   "name": "python",
   "nbconvert_exporter": "python",
   "pygments_lexer": "ipython3",
   "version": "3.9.7"
  }
 },
 "nbformat": 4,
 "nbformat_minor": 5
}
