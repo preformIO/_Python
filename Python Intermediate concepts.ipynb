{
 "cells": [
  {
   "cell_type": "markdown",
   "id": "0ab10509",
   "metadata": {},
   "source": [
    "# Intermediate python\n",
    "\n",
    " * Conditionals\n",
    "  * If statements\n",
    " * Loops\n",
    "  * List comprehension\n",
    " * Functions\n",
    " * Classes"
   ]
  },
  {
   "cell_type": "markdown",
   "id": "d50330ef",
   "metadata": {},
   "source": [
    "# Conditionals"
   ]
  },
  {
   "cell_type": "code",
   "execution_count": null,
   "id": "47a02a3e",
   "metadata": {},
   "outputs": [],
   "source": [
    "# if statements\n",
    "if True:\n",
    "    # do something\n",
    "    pass\n",
    "else:\n",
    "    # do something else instead\n",
    "    pass"
   ]
  },
  {
   "cell_type": "code",
   "execution_count": 18,
   "id": "be64954b",
   "metadata": {},
   "outputs": [
    {
     "name": "stdout",
     "output_type": "stream",
     "text": [
      "randBool = True\n"
     ]
    }
   ],
   "source": [
    "# if statement based on a random or other calculation\n",
    "import random\n",
    "randBool = random.choice([True, False])\n",
    "if randBool:\n",
    "    print(f\"randBool = True\")\n",
    "    pass\n",
    "else:\n",
    "    print(f\"randBool = False\")    \n",
    "    pass"
   ]
  },
  {
   "cell_type": "code",
   "execution_count": 24,
   "id": "c6ea2428",
   "metadata": {},
   "outputs": [
    {
     "name": "stdout",
     "output_type": "stream",
     "text": [
      "randInt = None\n"
     ]
    }
   ],
   "source": [
    "# if - else chain\n",
    "randInt = random.choice([None, 0, 1])\n",
    "if randInt == 0:\n",
    "    print(\"randInt = 0\")\n",
    "    pass\n",
    "elif randInt == 1:\n",
    "    print(\"randInt = 1\")\n",
    "    pass\n",
    "else: #default\n",
    "    print(f\"randInt = {randInt}\")\n",
    "    pass"
   ]
  },
  {
   "cell_type": "markdown",
   "id": "4b7089e4",
   "metadata": {},
   "source": [
    "## Loops\n"
   ]
  },
  {
   "cell_type": "code",
   "execution_count": 26,
   "id": "cbaa475b",
   "metadata": {},
   "outputs": [
    {
     "name": "stdout",
     "output_type": "stream",
     "text": [
      "l = \n",
      "[0.29866377 0.31257751 0.12934796 0.50063294 0.26761114 0.93806773\n",
      " 0.64503665 0.30586993 0.92272273 0.56533388 0.47668972 0.24341107]\n"
     ]
    }
   ],
   "source": [
    "import numpy as np\n",
    "l = np.random.rand(12)\n",
    "print(f\"l = \\n{l}\")"
   ]
  },
  {
   "cell_type": "code",
   "execution_count": 27,
   "id": "1fb8eb9c",
   "metadata": {},
   "outputs": [
    {
     "name": "stdout",
     "output_type": "stream",
     "text": [
      "range (12) = range(0, 12)\n",
      "i = 0\n",
      "i = 1\n",
      "i = 2\n",
      "i = 3\n",
      "i = 4\n",
      "i = 5\n",
      "i = 6\n",
      "i = 7\n",
      "i = 8\n",
      "i = 9\n",
      "i = 10\n",
      "i = 11\n",
      "l[0] = 0.29866377243419806\n",
      "l[1] = 0.31257750758843983\n",
      "l[2] = 0.12934795877538774\n",
      "l[3] = 0.5006329378225429\n",
      "l[4] = 0.2676111419618087\n",
      "l[5] = 0.9380677323159894\n",
      "l[6] = 0.6450366523101857\n",
      "l[7] = 0.3058699281350824\n",
      "l[8] = 0.9227227345900022\n",
      "l[9] = 0.5653338827032478\n",
      "l[10] = 0.4766897170324099\n",
      "l[11] = 0.24341106923125344\n"
     ]
    }
   ],
   "source": [
    "# loops with indexes\n",
    "print(f\"range (12) = {range (12)}\")\n",
    "for i in range (12):\n",
    "    print(f\"i = {i}\")\n",
    "for i in range(len(l)):\n",
    "    print(f\"l[{i}] = {l[i]}\")"
   ]
  },
  {
   "cell_type": "code",
   "execution_count": 28,
   "id": "139d4db0",
   "metadata": {},
   "outputs": [
    {
     "name": "stdout",
     "output_type": "stream",
     "text": [
      "f = 0.29866377243419806\n",
      "f = 0.31257750758843983\n",
      "f = 0.12934795877538774\n",
      "f = 0.5006329378225429\n",
      "f = 0.2676111419618087\n",
      "f = 0.9380677323159894\n",
      "f = 0.6450366523101857\n",
      "f = 0.3058699281350824\n",
      "f = 0.9227227345900022\n",
      "f = 0.5653338827032478\n",
      "f = 0.4766897170324099\n",
      "f = 0.24341106923125344\n"
     ]
    }
   ],
   "source": [
    "# loop through items in a iterable\n",
    "for f in l:\n",
    "    print(f\"f = {f}\")"
   ]
  },
  {
   "cell_type": "code",
   "execution_count": 29,
   "id": "5fce3636",
   "metadata": {},
   "outputs": [
    {
     "name": "stdout",
     "output_type": "stream",
     "text": [
      "arr = \n",
      "[[0.5877559024694805, 0.19014154792553095, 0.4352988059410525], [0.6919974064543648, 0.7957201168643939, 0.30250697347561195], [0.8066468409062729, 0.019472198274074426, 0.44498913159023123]]\n"
     ]
    }
   ],
   "source": [
    "# loop to create a 2D array\n",
    "arr = []\n",
    "for i in range(3):\n",
    "    arrJ = []\n",
    "    for j in range (3):\n",
    "        arrJ.append(np.random.rand())\n",
    "    arr.append(arrJ)\n",
    "print(f\"arr = \\n{arr}\")"
   ]
  },
  {
   "cell_type": "code",
   "execution_count": 30,
   "id": "c46a4842",
   "metadata": {},
   "outputs": [
    {
     "name": "stdout",
     "output_type": "stream",
     "text": [
      "arrListComp = \n",
      "[[0.7700165859947311, 0.2895606081870301, 0.8120332696167224], [0.1765939879980447, 0.3212552045403013, 0.5086400279039798], [0.9667581387319317, 0.13263233449328993, 0.2299432409035883]]\n"
     ]
    }
   ],
   "source": [
    "# List comprehension\n",
    "arrListComp = [[np.random.rand() for i in range(3)] for i in range(3)]\n",
    "print(f\"arrListComp = \\n{arrListComp}\")"
   ]
  },
  {
   "cell_type": "markdown",
   "id": "cefe1f56",
   "metadata": {},
   "source": [
    "## Functions"
   ]
  },
  {
   "cell_type": "code",
   "execution_count": 96,
   "id": "95ee1ed7",
   "metadata": {},
   "outputs": [
    {
     "data": {
      "text/plain": [
       "0.42216529212209264"
      ]
     },
     "execution_count": 96,
     "metadata": {},
     "output_type": "execute_result"
    }
   ],
   "source": [
    "def Q1(L): # def defines a function / class, Q1 is the name of the fnc/class, () accepts arguments\n",
    "    \n",
    "    q1_i = len(L)//4\n",
    "    list_sorted = np.sort(L)\n",
    "    q1 = list_sorted[q1_i]\n",
    "    \n",
    "#     print(f\"list = {L}\")\n",
    "#     print(f\"list_sorted = {list_sorted}\")\n",
    "#     print(f\"Q1 of list = {q1}\")\n",
    "    \n",
    "    return q1\n",
    "\n",
    "data = np.random.rand(12)\n",
    "Q1(data)"
   ]
  },
  {
   "cell_type": "code",
   "execution_count": 99,
   "id": "9eefd76f",
   "metadata": {},
   "outputs": [
    {
     "data": {
      "text/plain": [
       "3.1622776601683795"
      ]
     },
     "execution_count": 99,
     "metadata": {},
     "output_type": "execute_result"
    }
   ],
   "source": [
    "import math\n",
    "\n",
    "def sqrt(num):\n",
    "    root = math.pow(num, 1/2)\n",
    "    \n",
    "    return root\n",
    "\n",
    "sqrt(10)"
   ]
  },
  {
   "cell_type": "code",
   "execution_count": 107,
   "id": "3e37f652",
   "metadata": {},
   "outputs": [
    {
     "name": "stdout",
     "output_type": "stream",
     "text": [
      "100.0%\n",
      "200.0%\n",
      "300.0%\n",
      "400.0%\n",
      "500.0%\n",
      "600.0%\n",
      "700.0%\n",
      "800.0%\n",
      "900.0%\n",
      "1,000.0%\n"
     ]
    }
   ],
   "source": [
    "import math\n",
    "\n",
    "def percent(n):\n",
    "    perc = n * 100\n",
    "    \n",
    "    perc_s = f\"{perc:,.1f}%\"\n",
    "    \n",
    "    return perc_s\n",
    "\n",
    "[print(percent(x)) for x in range(1,11)]  ;"
   ]
  },
  {
   "cell_type": "markdown",
   "id": "204de4b4",
   "metadata": {},
   "source": [
    "## Classes\n"
   ]
  },
  {
   "cell_type": "code",
   "execution_count": 71,
   "id": "b6d29e2b",
   "metadata": {},
   "outputs": [
    {
     "name": "stdout",
     "output_type": "stream",
     "text": [
      "FinancialPortfolio class instance created = <__main__.FinancialPortfolio object at 0x0000018E375CA7C0>\n",
      "Michael's Portfolio :: printing.\n",
      "        cash = $-100\n",
      "       bonds = $1\n",
      "      stocks = $3\n",
      "        alts = $15\n",
      "Michael's Portfolio net worth = $-81\n"
     ]
    }
   ],
   "source": [
    "class FinancialPortfolio: # class declares a class, TestClass is its name\n",
    "    def __init__(self, name, cash, bonds, stocks, alternatives):\n",
    "        print(f\"FinancialPortfolio class instance created = {self}\")\n",
    "        self.name   = name\n",
    "        self.cash   = cash\n",
    "        self.bonds  = bonds\n",
    "        self.stocks = stocks\n",
    "        self.alts   = alternatives\n",
    "        \n",
    "        return\n",
    "    \n",
    "    def Print(self):\n",
    "        print(f'{self.name} Portfolio :: printing.')\n",
    "        print(f'        cash = ${self.cash}')\n",
    "        print(f'       bonds = ${self.bonds}')\n",
    "        print(f'      stocks = ${self.stocks}')\n",
    "        print(f'        alts = ${self.alts}')\n",
    "        \n",
    "    def PrintNetWorth(self):\n",
    "        net = self.cash + self.bonds + self.stocks + self.alts\n",
    "        print(f'{self.name} Portfolio net worth = ${net}')    \n",
    "    pass\n",
    "# create an instance of the class\n",
    "port = FinancialPortfolio(\"Michael's\", -100, 1, 3, 15)\n",
    "\n",
    "# call some of its functions\n",
    "port.Print()\n",
    "port.PrintNetWorth()"
   ]
  }
 ],
 "metadata": {
  "kernelspec": {
   "display_name": "Python 3 (ipykernel)",
   "language": "python",
   "name": "python3"
  },
  "language_info": {
   "codemirror_mode": {
    "name": "ipython",
    "version": 3
   },
   "file_extension": ".py",
   "mimetype": "text/x-python",
   "name": "python",
   "nbconvert_exporter": "python",
   "pygments_lexer": "ipython3",
   "version": "3.9.7"
  }
 },
 "nbformat": 4,
 "nbformat_minor": 5
}
