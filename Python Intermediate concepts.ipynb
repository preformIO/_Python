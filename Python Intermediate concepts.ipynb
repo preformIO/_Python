{
 "cells": [
  {
   "cell_type": "markdown",
   "id": "0ab10509",
   "metadata": {},
   "source": [
    "# Intermediate python\n",
    "\n",
    " * Conditionals\n",
    "  * If statements\n",
    " * Loops\n",
    "  * List comprehension\n",
    " * Functions\n",
    " * Classes"
   ]
  },
  {
   "cell_type": "markdown",
   "id": "d50330ef",
   "metadata": {},
   "source": [
    "# Conditionals"
   ]
  },
  {
   "cell_type": "code",
   "execution_count": 1,
   "id": "47a02a3e",
   "metadata": {},
   "outputs": [],
   "source": [
    "# if statements\n",
    "if True:\n",
    "    # do something\n",
    "    pass\n",
    "else:\n",
    "    # do something else instead\n",
    "    pass"
   ]
  },
  {
   "cell_type": "code",
   "execution_count": 11,
   "id": "be64954b",
   "metadata": {},
   "outputs": [
    {
     "name": "stdout",
     "output_type": "stream",
     "text": [
      "randBool = True\n"
     ]
    }
   ],
   "source": [
    "# if statement based on a random or other calculation\n",
    "import random\n",
    "randBool = random.choice([True, False])\n",
    "if randBool:\n",
    "    print(f\"randBool = True\")\n",
    "    pass\n",
    "else:\n",
    "    print(f\"randBool = False\")    \n",
    "    pass"
   ]
  },
  {
   "cell_type": "code",
   "execution_count": 20,
   "id": "c6ea2428",
   "metadata": {},
   "outputs": [
    {
     "name": "stdout",
     "output_type": "stream",
     "text": [
      "randInt = 0\n"
     ]
    }
   ],
   "source": [
    "# if - else chain\n",
    "randInt = random.choice([None, 0, 1])\n",
    "if randInt == 0:\n",
    "    print(\"randInt = 0\")\n",
    "    pass\n",
    "elif randInt == 1:\n",
    "    print(\"randInt = 1\")\n",
    "    pass\n",
    "else: #default\n",
    "    print(f\"randInt = {randInt}\")\n",
    "    pass"
   ]
  },
  {
   "cell_type": "code",
   "execution_count": 24,
   "id": "17448e1e",
   "metadata": {},
   "outputs": [
    {
     "name": "stdout",
     "output_type": "stream",
     "text": [
      "randInt = 0 OR randBool = True\n"
     ]
    }
   ],
   "source": [
    "# compound conditionals\n",
    "import random\n",
    "randBool = random.choice([True, False])\n",
    "randInt = random.choice([None, 0, 1])\n",
    "if (randInt == 0) or (randBool):\n",
    "    print(\"randInt = 0 OR randBool = True\")\n",
    "    pass\n",
    "elif (randInt == 1) and (randBool == False):\n",
    "    print(\"randInt = 1 AND randBool = False\")\n",
    "    pass\n",
    "else: #default\n",
    "    print(f\"randInt = {randInt}, randBool = {randBool}\")\n",
    "    pass"
   ]
  },
  {
   "cell_type": "markdown",
   "id": "4b7089e4",
   "metadata": {},
   "source": [
    "## Loops\n"
   ]
  },
  {
   "cell_type": "code",
   "execution_count": 27,
   "id": "b6d7237b",
   "metadata": {},
   "outputs": [
    {
     "name": "stdout",
     "output_type": "stream",
     "text": [
      "range (12) = range(0, 12)\n",
      "i = 0\n",
      "i = 1\n",
      "i = 2\n",
      "i = 3\n",
      "i = 4\n",
      "i = 5\n",
      "i = 6\n",
      "i = 7\n",
      "i = 8\n",
      "i = 9\n",
      "i = 10\n",
      "i = 11\n"
     ]
    }
   ],
   "source": [
    "# loops with indexes\n",
    "print(f\"range (12) = {range (12)}\")\n",
    "\n",
    "# example of what range(int) returns\n",
    "for i in range(12):\n",
    "    print(f\"i = {i}\")\n",
    "    pass"
   ]
  },
  {
   "cell_type": "code",
   "execution_count": 25,
   "id": "cbaa475b",
   "metadata": {},
   "outputs": [
    {
     "name": "stdout",
     "output_type": "stream",
     "text": [
      "l = \n",
      "[0.40107833 0.45266653 0.47686283 0.93548066 0.37733476 0.03214605\n",
      " 0.52172129 0.05975222 0.61843601 0.3042331  0.66228221 0.48991461]\n"
     ]
    }
   ],
   "source": [
    "import numpy as np\n",
    "l = np.random.rand(12)\n",
    "print(f\"l = \\n{l}\")"
   ]
  },
  {
   "cell_type": "code",
   "execution_count": 28,
   "id": "1fb8eb9c",
   "metadata": {},
   "outputs": [
    {
     "name": "stdout",
     "output_type": "stream",
     "text": [
      "l[0] = 0.4010783291161888\n",
      "l[1] = 0.4526665293154394\n",
      "l[2] = 0.4768628283780332\n",
      "l[3] = 0.9354806555232015\n",
      "l[4] = 0.37733475519965\n",
      "l[5] = 0.0321460469162409\n",
      "l[6] = 0.5217212885769892\n",
      "l[7] = 0.05975222017668069\n",
      "l[8] = 0.6184360111318018\n",
      "l[9] = 0.3042330964448323\n",
      "l[10] = 0.6622822056897122\n",
      "l[11] = 0.48991460542045606\n"
     ]
    }
   ],
   "source": [
    "# example using range(length(list))\n",
    "for i in range(len(l)):\n",
    "    print(f\"l[{i}] = {l[i]}\")\n",
    "    pass"
   ]
  },
  {
   "cell_type": "code",
   "execution_count": 26,
   "id": "139d4db0",
   "metadata": {},
   "outputs": [
    {
     "name": "stdout",
     "output_type": "stream",
     "text": [
      "f = 0.4010783291161888\n",
      "f = 0.4526665293154394\n",
      "f = 0.4768628283780332\n",
      "f = 0.9354806555232015\n",
      "f = 0.37733475519965\n",
      "f = 0.0321460469162409\n",
      "f = 0.5217212885769892\n",
      "f = 0.05975222017668069\n",
      "f = 0.6184360111318018\n",
      "f = 0.3042330964448323\n",
      "f = 0.6622822056897122\n",
      "f = 0.48991460542045606\n"
     ]
    }
   ],
   "source": [
    "# loop through items in a iterable\n",
    "for f in l: # comparable to C# foreach loops\n",
    "    print(f\"f = {f}\")"
   ]
  },
  {
   "cell_type": "code",
   "execution_count": 30,
   "id": "5fce3636",
   "metadata": {},
   "outputs": [
    {
     "name": "stdout",
     "output_type": "stream",
     "text": [
      "arr = \n",
      "[[0.9423489288776782, 0.033609353452595414, 0.9738390689836193], [0.12881575828630198, 0.830608150597956, 0.8100065234752655], [0.529245009070651, 0.756034070562038, 0.7335623276078441]]\n"
     ]
    }
   ],
   "source": [
    "# loop to create a 2D array\n",
    "arr = []\n",
    "for i in range(3):\n",
    "    arrJ = []\n",
    "    for j in range (3):\n",
    "        arrJ.append(np.random.rand())\n",
    "    arr.append(arrJ)\n",
    "print(f\"arr = \\n{arr}\")"
   ]
  },
  {
   "cell_type": "code",
   "execution_count": 32,
   "id": "c46a4842",
   "metadata": {
    "scrolled": true
   },
   "outputs": [
    {
     "name": "stdout",
     "output_type": "stream",
     "text": [
      "arrListComp = \n",
      "[0, 1, 2]\n"
     ]
    }
   ],
   "source": [
    "# List comprehension 1D\n",
    "arrListComp = [i for i in range(3)]\n",
    "print(f\"arrListComp = \\n{arrListComp}\")"
   ]
  },
  {
   "cell_type": "code",
   "execution_count": 37,
   "id": "857d56a1",
   "metadata": {},
   "outputs": [
    {
     "name": "stdout",
     "output_type": "stream",
     "text": [
      "arrListComp = \n",
      "[[0, 1, 2], [1, 2, 3], [2, 3, 4]]\n"
     ]
    }
   ],
   "source": [
    "# List comprehension 2D\n",
    "arrListComp2D = [[j+i for j in range(3)] for i in range(3)]\n",
    "print(f\"arrListComp = \\n{arrListComp2D}\")"
   ]
  },
  {
   "cell_type": "code",
   "execution_count": 39,
   "id": "e1a74d08",
   "metadata": {},
   "outputs": [
    {
     "name": "stdout",
     "output_type": "stream",
     "text": [
      "arrListComp = \n",
      "[[0.8071003395481477, 0.6652272904515972, 0.39115567883515967], [0.30223046080077, 0.3558249791736956, 0.10868145376283067], [0.22740440862190203, 0.6214140323517856, 0.045045813511174204]]\n"
     ]
    }
   ],
   "source": [
    "# List comprehension 2D with function\n",
    "arrListComp2D = [[np.random.rand() for j in range(3)] for i in range(3)]\n",
    "print(f\"arrListComp2D = \\n{arrListComp2D}\")"
   ]
  },
  {
   "cell_type": "markdown",
   "id": "cefe1f56",
   "metadata": {},
   "source": [
    "## Functions"
   ]
  },
  {
   "cell_type": "code",
   "execution_count": 70,
   "id": "6ef944b8",
   "metadata": {},
   "outputs": [
    {
     "ename": "TypeError",
     "evalue": "must be real number, not str",
     "output_type": "error",
     "traceback": [
      "\u001b[1;31m---------------------------------------------------------------------------\u001b[0m",
      "\u001b[1;31mTypeError\u001b[0m                                 Traceback (most recent call last)",
      "\u001b[1;32m~\\AppData\\Local\\Temp/ipykernel_3068/24978100.py\u001b[0m in \u001b[0;36m<module>\u001b[1;34m\u001b[0m\n\u001b[0;32m      8\u001b[0m \u001b[1;33m\u001b[0m\u001b[0m\n\u001b[0;32m      9\u001b[0m \u001b[0msqrt\u001b[0m\u001b[1;33m(\u001b[0m\u001b[1;36m10\u001b[0m\u001b[1;33m)\u001b[0m\u001b[1;33m\u001b[0m\u001b[1;33m\u001b[0m\u001b[0m\n\u001b[1;32m---> 10\u001b[1;33m \u001b[0msqrt\u001b[0m\u001b[1;33m(\u001b[0m\u001b[1;34m\"Hello World!\"\u001b[0m\u001b[1;33m)\u001b[0m\u001b[1;33m\u001b[0m\u001b[1;33m\u001b[0m\u001b[0m\n\u001b[0m",
      "\u001b[1;32m~\\AppData\\Local\\Temp/ipykernel_3068/24978100.py\u001b[0m in \u001b[0;36msqrt\u001b[1;34m(num)\u001b[0m\n\u001b[0;32m      3\u001b[0m \u001b[1;32mdef\u001b[0m \u001b[0msqrt\u001b[0m\u001b[1;33m(\u001b[0m\u001b[0mnum\u001b[0m\u001b[1;33m)\u001b[0m\u001b[1;33m:\u001b[0m\u001b[1;33m\u001b[0m\u001b[1;33m\u001b[0m\u001b[0m\n\u001b[0;32m      4\u001b[0m \u001b[1;33m\u001b[0m\u001b[0m\n\u001b[1;32m----> 5\u001b[1;33m     \u001b[0mroot\u001b[0m \u001b[1;33m=\u001b[0m \u001b[0mmath\u001b[0m\u001b[1;33m.\u001b[0m\u001b[0mpow\u001b[0m\u001b[1;33m(\u001b[0m\u001b[0mnum\u001b[0m\u001b[1;33m,\u001b[0m \u001b[1;36m1\u001b[0m\u001b[1;33m/\u001b[0m\u001b[1;36m2\u001b[0m\u001b[1;33m)\u001b[0m\u001b[1;33m\u001b[0m\u001b[1;33m\u001b[0m\u001b[0m\n\u001b[0m\u001b[0;32m      6\u001b[0m \u001b[1;33m\u001b[0m\u001b[0m\n\u001b[0;32m      7\u001b[0m     \u001b[1;32mreturn\u001b[0m \u001b[0mroot\u001b[0m\u001b[1;33m\u001b[0m\u001b[1;33m\u001b[0m\u001b[0m\n",
      "\u001b[1;31mTypeError\u001b[0m: must be real number, not str"
     ]
    }
   ],
   "source": [
    "import math\n",
    "\n",
    "def sqrt(num):\n",
    "    \n",
    "    root = math.pow(num, 1/2)\n",
    "    \n",
    "    return root\n",
    "\n",
    "sqrt(10)\n",
    "# sqrt(\"Hello World!\")"
   ]
  },
  {
   "cell_type": "code",
   "execution_count": 72,
   "id": "c8ed5c59",
   "metadata": {},
   "outputs": [
    {
     "data": {
      "text/plain": [
       "['100.0%',\n",
       " '200.0%',\n",
       " '300.0%',\n",
       " '400.0%',\n",
       " '500.0%',\n",
       " '600.0%',\n",
       " '700.0%',\n",
       " '800.0%',\n",
       " '900.0%',\n",
       " '1,000.0%']"
      ]
     },
     "execution_count": 72,
     "metadata": {},
     "output_type": "execute_result"
    }
   ],
   "source": [
    "import math\n",
    "\n",
    "def percent(num):\n",
    "    assert (type(num) == int) or (type(num) == float)\n",
    "\n",
    "    perc = num * 100\n",
    "    \n",
    "    perc_s = f\"{perc:,.1f}%\"\n",
    "    \n",
    "    return perc_s\n",
    "\n",
    "[percent(x) for x in range(1,11)]\n",
    "# [percent(char) for char in \"Hello World!\"]"
   ]
  },
  {
   "cell_type": "code",
   "execution_count": 47,
   "id": "94a0cd9f",
   "metadata": {},
   "outputs": [
    {
     "name": "stdout",
     "output_type": "stream",
     "text": [
      "parameter1 = 1\n",
      "parameter2 = 2\n",
      "etc = 3\n"
     ]
    }
   ],
   "source": [
    "# define a fuction by name (parameters go in prentheses = \"default values\")\n",
    "def fncName (parameter1 = \"foo\", parameter2 = \"bar\", etc = \"baz\"):\n",
    "    print(f\"parameter1 = {parameter1}\")\n",
    "    print(f\"parameter2 = {parameter2}\")\n",
    "    print(f\"etc = {etc}\")\n",
    "    \n",
    "fncName(1, 2, 3)"
   ]
  },
  {
   "cell_type": "code",
   "execution_count": 59,
   "id": "8b89060c",
   "metadata": {},
   "outputs": [
    {
     "name": "stdout",
     "output_type": "stream",
     "text": [
      "parameter1 = foo\n",
      "parameter2 = bar\n",
      "etc = 3\n"
     ]
    }
   ],
   "source": [
    "fncName(etc = 3)"
   ]
  },
  {
   "cell_type": "code",
   "execution_count": 57,
   "id": "e2948b7a",
   "metadata": {},
   "outputs": [
    {
     "name": "stdout",
     "output_type": "stream",
     "text": [
      "arg = '1'\n",
      "arg = 2\n",
      "arg = 3\n"
     ]
    },
    {
     "data": {
      "text/plain": [
       "('1', 2, 3)"
      ]
     },
     "execution_count": 57,
     "metadata": {},
     "output_type": "execute_result"
    }
   ],
   "source": [
    "# args example\n",
    "def fncNameWithArgs(*args):\n",
    "    for arg in args:\n",
    "        if type(arg) == str:\n",
    "            print(f\"arg = '{arg}'\")\n",
    "            pass\n",
    "        elif type(arg) == int:\n",
    "            print(f\"arg = {arg}\")\n",
    "            pass\n",
    "        pass\n",
    "    \n",
    "    return args\n",
    "    pass\n",
    "\n",
    "fncNameWithArgs(\"1\", 2, 3)"
   ]
  },
  {
   "cell_type": "code",
   "execution_count": 62,
   "id": "9efb7d7e",
   "metadata": {},
   "outputs": [
    {
     "name": "stdout",
     "output_type": "stream",
     "text": [
      "kwarg1 = '1'\n",
      "kwarg2 = 2\n",
      "kwarg3 = 3\n"
     ]
    },
    {
     "data": {
      "text/plain": [
       "{'kwarg1': '1', 'kwarg2': 2, 'kwarg3': 3}"
      ]
     },
     "execution_count": 62,
     "metadata": {},
     "output_type": "execute_result"
    }
   ],
   "source": [
    "# args example\n",
    "def fncNameWithArgs(**kwargs):\n",
    "    for key in kwargs.keys():\n",
    "        if type(kwargs[key]) == str:\n",
    "            print(f\"{key} = '{kwargs[key]}'\")\n",
    "            pass\n",
    "        elif type(kwargs[key]) == int:\n",
    "            print(f\"{key} = {kwargs[key]}\")\n",
    "            pass\n",
    "        pass\n",
    "    \n",
    "    return kwargs\n",
    "    pass\n",
    "\n",
    "fncNameWithArgs(kwarg1 = \"1\", kwarg2 = 2, kwarg3 = 3)"
   ]
  },
  {
   "cell_type": "code",
   "execution_count": 43,
   "id": "38ccc2d9",
   "metadata": {
    "scrolled": true
   },
   "outputs": [
    {
     "name": "stdout",
     "output_type": "stream",
     "text": [
      "1/4 = 0.25\n",
      "1//4 = 0\n",
      "5/4 = 1.25\n",
      "5//4 = 1\n",
      "11/4 = 2.75\n",
      "11//4 = 2\n"
     ]
    }
   ],
   "source": [
    "# Floor division (Integer division) review\n",
    "print(f\"1/4 = {1/4}\")\n",
    "print(f\"1//4 = {1//4}\")\n",
    "\n",
    "print(f\"5/4 = {5/4}\")\n",
    "print(f\"5//4 = {5//4}\")\n",
    "\n",
    "print(f\"11/4 = {11/4}\")\n",
    "print(f\"11//4 = {11//4}\")"
   ]
  },
  {
   "cell_type": "code",
   "execution_count": 40,
   "id": "95ee1ed7",
   "metadata": {},
   "outputs": [
    {
     "name": "stdout",
     "output_type": "stream",
     "text": [
      "list = [0.83761705 0.5684365  0.80614466 0.31557473 0.53671358 0.70273123\n",
      " 0.08462683 0.4807036  0.75914116 0.89029861 0.83270644 0.70030001]\n",
      "list_sorted = [0.08462683 0.31557473 0.4807036  0.53671358 0.5684365  0.70030001\n",
      " 0.70273123 0.75914116 0.80614466 0.83270644 0.83761705 0.89029861]\n",
      "Q1 of list = 0.5367135787891837\n"
     ]
    },
    {
     "data": {
      "text/plain": [
       "0.5367135787891837"
      ]
     },
     "execution_count": 40,
     "metadata": {},
     "output_type": "execute_result"
    }
   ],
   "source": [
    "def Q1(L): # def defines a function / class, Q1 is the name of the fnc/class, () accepts arguments\n",
    "    \n",
    "    q1_i = len(L)//4\n",
    "    list_sorted = np.sort(L)\n",
    "    q1 = list_sorted[q1_i]\n",
    "    \n",
    "    print(f\"list = {L}\")\n",
    "    print(f\"list_sorted = {list_sorted}\")\n",
    "    print(f\"Q1 of list = {q1}\")\n",
    "    \n",
    "    return q1\n",
    "\n",
    "data = np.random.rand(12)\n",
    "Q1(data)"
   ]
  },
  {
   "cell_type": "markdown",
   "id": "204de4b4",
   "metadata": {},
   "source": [
    "## Classes\n"
   ]
  },
  {
   "cell_type": "code",
   "execution_count": 71,
   "id": "b6d29e2b",
   "metadata": {},
   "outputs": [
    {
     "name": "stdout",
     "output_type": "stream",
     "text": [
      "FinancialPortfolio class instance created = <__main__.FinancialPortfolio object at 0x0000018E375CA7C0>\n",
      "Michael's Portfolio :: printing.\n",
      "        cash = $-100\n",
      "       bonds = $1\n",
      "      stocks = $3\n",
      "        alts = $15\n",
      "Michael's Portfolio net worth = $-81\n"
     ]
    }
   ],
   "source": [
    "class FinancialPortfolio: # class declares a class, TestClass is its name\n",
    "    def __init__(self, name, cash, bonds, stocks, alternatives):\n",
    "        print(f\"FinancialPortfolio class instance created = {self}\")\n",
    "        self.name   = name\n",
    "        self.cash   = cash\n",
    "        self.bonds  = bonds\n",
    "        self.stocks = stocks\n",
    "        self.alts   = alternatives\n",
    "        \n",
    "        return\n",
    "    \n",
    "    def Print(self):\n",
    "        print(f'{self.name} Portfolio :: printing.')\n",
    "        print(f'        cash = ${self.cash}')\n",
    "        print(f'       bonds = ${self.bonds}')\n",
    "        print(f'      stocks = ${self.stocks}')\n",
    "        print(f'        alts = ${self.alts}')\n",
    "        \n",
    "    def PrintNetWorth(self):\n",
    "        net = self.cash + self.bonds + self.stocks + self.alts\n",
    "        print(f'{self.name} Portfolio net worth = ${net}')    \n",
    "    pass\n",
    "# create an instance of the class\n",
    "portfolio = FinancialPortfolio(\"Michael's\", -100, 1, 3, 15)\n",
    "\n",
    "# call some of its functions\n",
    "portfolio.Print()\n",
    "portfolio.PrintNetWorth()"
   ]
  }
 ],
 "metadata": {
  "kernelspec": {
   "display_name": "Python 3 (ipykernel)",
   "language": "python",
   "name": "python3"
  },
  "language_info": {
   "codemirror_mode": {
    "name": "ipython",
    "version": 3
   },
   "file_extension": ".py",
   "mimetype": "text/x-python",
   "name": "python",
   "nbconvert_exporter": "python",
   "pygments_lexer": "ipython3",
   "version": "3.9.7"
  }
 },
 "nbformat": 4,
 "nbformat_minor": 5
}
