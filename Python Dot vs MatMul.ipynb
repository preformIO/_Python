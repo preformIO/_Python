{
 "cells": [
  {
   "cell_type": "code",
   "execution_count": 1,
   "id": "b6f11be3",
   "metadata": {},
   "outputs": [
    {
     "name": "stdout",
     "output_type": "stream",
     "text": [
      "[[-27   0  -7 -26 -49]\n",
      " [ -9 -32 -10  21 -42]\n",
      " [ -6  35  46  33 -49]\n",
      " [-25 -21  34  18  -8]\n",
      " [ 47  22 -22 -48  37]]\n"
     ]
    }
   ],
   "source": [
    "import numpy as np\n",
    "arr = np.random.randint (-50, 50, size = (1, 25))\n",
    "M = arr.reshape (5, 5)\n",
    "print (M)\n"
   ]
  },
  {
   "cell_type": "code",
   "execution_count": 2,
   "id": "7ef93f65",
   "metadata": {},
   "outputs": [
    {
     "name": "stdout",
     "output_type": "stream",
     "text": [
      "[[ -882  -777    61  2355    61]\n",
      " [-1908  -691  1561  1626   553]\n",
      " [-3557 -1281  4008  5355 -5507]\n",
      " [ -166  1308  2737  2039     1]\n",
      " [ 1604   348 -4007 -4126  -396]]\n",
      "[[ -882  -777    61  2355    61]\n",
      " [-1908  -691  1561  1626   553]\n",
      " [-3557 -1281  4008  5355 -5507]\n",
      " [ -166  1308  2737  2039     1]\n",
      " [ 1604   348 -4007 -4126  -396]]\n"
     ]
    }
   ],
   "source": [
    "mul = np.matmul(M, M)\n",
    "dot = np.dot(M, M)\n",
    "print(mul)\n",
    "print(dot)"
   ]
  },
  {
   "cell_type": "code",
   "execution_count": 6,
   "id": "02826094",
   "metadata": {},
   "outputs": [
    {
     "name": "stdout",
     "output_type": "stream",
     "text": [
      "[[-27   0  -7 -26 -49]\n",
      " [ -9 -32 -10  21 -42]\n",
      " [ -6  35  46  33 -49]]\n"
     ]
    }
   ],
   "source": [
    "X = np.resize(arr, (3,5))\n",
    "print (X)\n"
   ]
  },
  {
   "cell_type": "code",
   "execution_count": 22,
   "id": "92f976fa",
   "metadata": {},
   "outputs": [
    {
     "name": "stdout",
     "output_type": "stream",
     "text": [
      "[[ -882  -777    61  2355    61]\n",
      " [-1908  -691  1561  1626   553]\n",
      " [-3557 -1281  4008  5355 -5507]]\n",
      "[[-54   0 -14 -52 -98]\n",
      " [-18 -64 -20  42 -84]\n",
      " [-12  70  92  66 -98]\n",
      " [-50 -42  68  36 -16]\n",
      " [ 94  44 -44 -96  74]]\n",
      "[[ -882  -777    61  2355    61]\n",
      " [-1908  -691  1561  1626   553]\n",
      " [-3557 -1281  4008  5355 -5507]]\n"
     ]
    },
    {
     "ename": "ValueError",
     "evalue": "matmul: Input operand 0 does not have enough dimensions (has 0, gufunc core with signature (n?,k),(k,m?)->(n?,m?) requires 1)",
     "output_type": "error",
     "traceback": [
      "\u001b[1;31m---------------------------------------------------------------------------\u001b[0m",
      "\u001b[1;31mValueError\u001b[0m                                Traceback (most recent call last)",
      "\u001b[1;32m~\\AppData\\Local\\Temp/ipykernel_23728/4094719985.py\u001b[0m in \u001b[0;36m<module>\u001b[1;34m\u001b[0m\n\u001b[0;32m      8\u001b[0m \u001b[0mprint\u001b[0m\u001b[1;33m(\u001b[0m\u001b[0mmul\u001b[0m\u001b[1;33m)\u001b[0m\u001b[1;33m\u001b[0m\u001b[1;33m\u001b[0m\u001b[0m\n\u001b[0;32m      9\u001b[0m \u001b[1;33m\u001b[0m\u001b[0m\n\u001b[1;32m---> 10\u001b[1;33m \u001b[0mmul\u001b[0m \u001b[1;33m=\u001b[0m \u001b[0mnp\u001b[0m\u001b[1;33m.\u001b[0m\u001b[0mmatmul\u001b[0m\u001b[1;33m(\u001b[0m\u001b[1;36m2\u001b[0m\u001b[1;33m,\u001b[0m \u001b[0mM\u001b[0m\u001b[1;33m)\u001b[0m \u001b[1;31m# throws error because scalars don't work in matmul\u001b[0m\u001b[1;33m\u001b[0m\u001b[1;33m\u001b[0m\u001b[0m\n\u001b[0m\u001b[0;32m     11\u001b[0m \u001b[0mprint\u001b[0m\u001b[1;33m(\u001b[0m\u001b[0mmul\u001b[0m\u001b[1;33m)\u001b[0m\u001b[1;33m\u001b[0m\u001b[1;33m\u001b[0m\u001b[0m\n",
      "\u001b[1;31mValueError\u001b[0m: matmul: Input operand 0 does not have enough dimensions (has 0, gufunc core with signature (n?,k),(k,m?)->(n?,m?) requires 1)"
     ]
    }
   ],
   "source": [
    "dot = np.dot(X, M)\n",
    "print(dot)\n",
    "\n",
    "dot = np.dot(2, M)\n",
    "print(dot)\n",
    "\n",
    "mul = np.matmul(X, M)\n",
    "print(mul)\n",
    "\n",
    "mul = np.matmul(2, M) # throws error because scalars don't work in matmul\n",
    "print(mul)"
   ]
  },
  {
   "cell_type": "code",
   "execution_count": null,
   "id": "72ebb501",
   "metadata": {},
   "outputs": [],
   "source": []
  }
 ],
 "metadata": {
  "kernelspec": {
   "display_name": "Python 3 (ipykernel)",
   "language": "python",
   "name": "python3"
  },
  "language_info": {
   "codemirror_mode": {
    "name": "ipython",
    "version": 3
   },
   "file_extension": ".py",
   "mimetype": "text/x-python",
   "name": "python",
   "nbconvert_exporter": "python",
   "pygments_lexer": "ipython3",
   "version": "3.9.7"
  }
 },
 "nbformat": 4,
 "nbformat_minor": 5
}
