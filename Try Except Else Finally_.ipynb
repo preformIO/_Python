{
 "cells": [
  {
   "cell_type": "markdown",
   "metadata": {
    "id": "2rqNcxkDKhyz"
   },
   "source": [
    "# Try/except error catching"
   ]
  },
  {
   "cell_type": "markdown",
   "metadata": {
    "id": "HNAEVu0oPksy"
   },
   "source": [
    "## How to write a try / except\n"
   ]
  },
  {
   "cell_type": "code",
   "execution_count": 31,
   "metadata": {
    "id": "2FlnOPaVKs2x"
   },
   "outputs": [],
   "source": [
    "# Example\n",
    "def divide(x, y):\n",
    "  try: # code to try without crashing script\n",
    "    result = x / y\n",
    "  except ZeroDivisionError: # specific exception catching by name\n",
    "    print(\"division by zero!\")\n",
    "  except TypeError: # another specific excetion catch\n",
    "    print(f\"unsupported operand type(s) for /: '{type(x)}' and '{type(y)}'\")\n",
    "  except: # default catch for any other type of exeption\n",
    "    print(f\"unknown error when dividing {x} by {y}\")\n",
    "  else: # code to execute if no exceptions were caught\n",
    "    print(\"result is\", result)\n",
    "  finally: # code to execute at the end no matter what\n",
    "    print(\"executing finally clause\")"
   ]
  },
  {
   "cell_type": "code",
   "execution_count": 22,
   "metadata": {
    "colab": {
     "base_uri": "https://localhost:8080/"
    },
    "id": "rNnW_OWMM01u",
    "outputId": "61385ede-d76d-49f3-8b1a-3848fe4c1b03"
   },
   "outputs": [
    {
     "name": "stdout",
     "output_type": "stream",
     "text": [
      "result is 2.0\n",
      "executing finally clause\n"
     ]
    }
   ],
   "source": [
    "divide(2, 1)"
   ]
  },
  {
   "cell_type": "code",
   "execution_count": 30,
   "metadata": {
    "colab": {
     "base_uri": "https://localhost:8080/"
    },
    "id": "dRtSqVDlM1xU",
    "outputId": "3425d2c6-9602-4b81-a670-d2f300bfca20"
   },
   "outputs": [
    {
     "name": "stdout",
     "output_type": "stream",
     "text": [
      "division by zero!\n",
      "executing finally clause\n"
     ]
    }
   ],
   "source": [
    "divide(2, 0)"
   ]
  },
  {
   "cell_type": "code",
   "execution_count": 32,
   "metadata": {
    "colab": {
     "base_uri": "https://localhost:8080/"
    },
    "id": "k8Iz3PrGM2tx",
    "outputId": "1e1461d7-847c-4017-a17c-0e767110a128"
   },
   "outputs": [
    {
     "name": "stdout",
     "output_type": "stream",
     "text": [
      "unknown error when dividing 2 by 1\n",
      "executing finally clause\n"
     ]
    }
   ],
   "source": [
    "divide(\"2\", \"1\")"
   ]
  },
  {
   "cell_type": "code",
   "execution_count": 33,
   "metadata": {
    "colab": {
     "base_uri": "https://localhost:8080/"
    },
    "id": "wb_8NCUgOtKC",
    "outputId": "3a3b895b-7f34-4f11-e82f-17cb832949b0"
   },
   "outputs": [
    {
     "name": "stdout",
     "output_type": "stream",
     "text": [
      "unknown error when dividing [1, 2, 3] by ['a', 'b', 'c']\n",
      "executing finally clause\n"
     ]
    }
   ],
   "source": [
    "divide([1, 2, 3], [\"a\", \"b\", \"c\"])"
   ]
  },
  {
   "cell_type": "markdown",
   "metadata": {
    "id": "upd5UJx6PjEl"
   },
   "source": [
    "## What do \"else\" and \"finally\" blocks do?\n",
    "\n",
    " * \"else:\" is a block of statements that will execute if no exceptions are caught\n",
    " * \"finally:\" creates a block of statements that will execute after any other blocks are executed in the try / except / else statement\n",
    "\n",
    "\n",
    "[More information on try / except in documentatio](https://docs.python.org/3/tutorial/errors.html)"
   ]
  }
 ],
 "metadata": {
  "colab": {
   "collapsed_sections": [
    "zukX23rHEySh",
    "4v6e65NsE5U7"
   ],
   "name": "PythonQuiz3 Prep.ipynb",
   "provenance": [],
   "toc_visible": true
  },
  "kernelspec": {
   "display_name": "Python 3 (ipykernel)",
   "language": "python",
   "name": "python3"
  },
  "language_info": {
   "codemirror_mode": {
    "name": "ipython",
    "version": 3
   },
   "file_extension": ".py",
   "mimetype": "text/x-python",
   "name": "python",
   "nbconvert_exporter": "python",
   "pygments_lexer": "ipython3",
   "version": "3.9.7"
  }
 },
 "nbformat": 4,
 "nbformat_minor": 1
}
